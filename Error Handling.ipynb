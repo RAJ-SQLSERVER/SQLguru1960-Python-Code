{
 "cells": [
  {
   "cell_type": "code",
   "execution_count": null,
   "metadata": {
    "collapsed": false
   },
   "outputs": [],
   "source": [
    "print('Hello)"
   ]
  },
  {
   "cell_type": "code",
   "execution_count": null,
   "metadata": {
    "collapsed": false
   },
   "outputs": [],
   "source": [
    "# try:\n",
    "# Code Block...\n",
    "# except I:\n",
    "# except II: ...\n",
    "# else:\n",
    "# finally - always runs!\n",
    "\n",
    "2 + 's'"
   ]
  },
  {
   "cell_type": "code",
   "execution_count": null,
   "metadata": {
    "collapsed": false
   },
   "outputs": [],
   "source": [
    "try:\n",
    "    2 + 's'\n",
    "except TypeError:\n",
    "    print(\"Type error in your statement\")\n",
    "finally: \n",
    "    print('finally')\n",
    "    "
   ]
  },
  {
   "cell_type": "code",
   "execution_count": null,
   "metadata": {
    "collapsed": false
   },
   "outputs": [],
   "source": [
    "try:\n",
    "    f = open('testfile.txt', 'w')\n",
    "    f.write('test write this...')\n",
    "except:\n",
    "    print('error writing to file...')\n",
    "else:\n",
    "    print('file write a success')\n",
    "finally:\n",
    "    if not f.closed:\n",
    "        f.close"
   ]
  },
  {
   "cell_type": "code",
   "execution_count": null,
   "metadata": {
    "collapsed": false
   },
   "outputs": [],
   "source": [
    "try:\n",
    "    f = open('testfile.txt', 'r')\n",
    "    f.write('test write this...')\n",
    "except:\n",
    "    print('error writing to file...')\n",
    "finally:\n",
    "    if not f.closed:\n",
    "        f.close\n",
    "    print('I will still execute finally block, even with an error...')"
   ]
  },
  {
   "cell_type": "code",
   "execution_count": null,
   "metadata": {
    "collapsed": true
   },
   "outputs": [],
   "source": [
    "def AskInt():\n",
    "    while True:\n",
    "        try:\n",
    "            val = int(input('Enter an Integer:'))\n",
    "        except:\n",
    "            print(\"Did you enter an Integer?\")\n",
    "            continue\n",
    "        else:\n",
    "            print('Correct input...')\n",
    "            break\n",
    "        finally:\n",
    "            print('Finally!')\n",
    "\n",
    "    print(\"val: {}\".format(val))\n"
   ]
  },
  {
   "cell_type": "code",
   "execution_count": null,
   "metadata": {
    "collapsed": false
   },
   "outputs": [],
   "source": [
    "AskInt()"
   ]
  }
 ],
 "metadata": {
  "anaconda-cloud": {},
  "kernelspec": {
   "display_name": "Python [conda root]",
   "language": "python",
   "name": "conda-root-py"
  },
  "language_info": {
   "codemirror_mode": {
    "name": "ipython",
    "version": 3
   },
   "file_extension": ".py",
   "mimetype": "text/x-python",
   "name": "python",
   "nbconvert_exporter": "python",
   "pygments_lexer": "ipython3",
   "version": "3.5.2"
  }
 },
 "nbformat": 4,
 "nbformat_minor": 1
}
