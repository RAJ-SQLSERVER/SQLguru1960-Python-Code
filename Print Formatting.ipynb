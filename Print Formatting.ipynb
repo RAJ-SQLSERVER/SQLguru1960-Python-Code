{
 "cells": [
  {
   "cell_type": "code",
   "execution_count": 1,
   "metadata": {
    "collapsed": false
   },
   "outputs": [
    {
     "name": "stdout",
     "output_type": "stream",
     "text": [
      "place my variable here: String\n"
     ]
    }
   ],
   "source": [
    "s = 'String'\n",
    "\n",
    "print(\"place my variable here: %s\" % (s))"
   ]
  },
  {
   "cell_type": "code",
   "execution_count": 2,
   "metadata": {
    "collapsed": false
   },
   "outputs": [
    {
     "name": "stdout",
     "output_type": "stream",
     "text": [
      "floating point number: 13.14\n"
     ]
    }
   ],
   "source": [
    "print(\"floating point number: %1.2f\" % (13.145))"
   ]
  },
  {
   "cell_type": "code",
   "execution_count": 3,
   "metadata": {
    "collapsed": false
   },
   "outputs": [
    {
     "name": "stdout",
     "output_type": "stream",
     "text": [
      "convert to a string: 123\n"
     ]
    }
   ],
   "source": [
    "print(\"convert to a string: %s\" % (123))"
   ]
  },
  {
   "cell_type": "code",
   "execution_count": 4,
   "metadata": {
    "collapsed": false
   },
   "outputs": [
    {
     "name": "stdout",
     "output_type": "stream",
     "text": [
      "first: ted, second: is, third: 57\n"
     ]
    }
   ],
   "source": [
    "print(\"first: %s, second: %s, third: %s\" % ('ted', 'is', 57))"
   ]
  },
  {
   "cell_type": "code",
   "execution_count": 5,
   "metadata": {
    "collapsed": false
   },
   "outputs": [
    {
     "name": "stdout",
     "output_type": "stream",
     "text": [
      "first: 100, second: 100\n"
     ]
    }
   ],
   "source": [
    "# format method\n",
    "print(\"first: {x}, second: {x}\".format(x=100)) # same value in two locations"
   ]
  },
  {
   "cell_type": "code",
   "execution_count": 6,
   "metadata": {
    "collapsed": false
   },
   "outputs": [
    {
     "name": "stdout",
     "output_type": "stream",
     "text": [
      "first: 100, second: ted\n"
     ]
    }
   ],
   "source": [
    "print(\"first: {x}, second: {y}\".format(x=100, y='ted')) # variable name insertion"
   ]
  },
  {
   "cell_type": "code",
   "execution_count": 7,
   "metadata": {
    "collapsed": false
   },
   "outputs": [
    {
     "name": "stdout",
     "output_type": "stream",
     "text": [
      "first: 100, second: ted\n"
     ]
    }
   ],
   "source": [
    "print(\"first: {}, second: {}\".format(100,'ted')) # blank parenthesis = positional insertion"
   ]
  },
  {
   "cell_type": "code",
   "execution_count": 8,
   "metadata": {
    "collapsed": false
   },
   "outputs": [
    {
     "name": "stdout",
     "output_type": "stream",
     "text": [
      "first: 100, second: ted, third: 100\n"
     ]
    }
   ],
   "source": [
    "# variable assignment and position\n",
    "print(\"first: {x}, second: {y}, third: {x}\".format(x=100,y='ted'))"
   ]
  },
  {
   "cell_type": "code",
   "execution_count": null,
   "metadata": {
    "collapsed": true
   },
   "outputs": [],
   "source": []
  }
 ],
 "metadata": {
  "anaconda-cloud": {},
  "kernelspec": {
   "display_name": "Python [conda root]",
   "language": "python",
   "name": "conda-root-py"
  },
  "language_info": {
   "codemirror_mode": {
    "name": "ipython",
    "version": 3
   },
   "file_extension": ".py",
   "mimetype": "text/x-python",
   "name": "python",
   "nbconvert_exporter": "python",
   "pygments_lexer": "ipython3",
   "version": "3.5.2"
  }
 },
 "nbformat": 4,
 "nbformat_minor": 1
}
