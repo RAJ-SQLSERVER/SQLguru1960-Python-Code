{
 "cells": [
  {
   "cell_type": "markdown",
   "metadata": {},
   "source": [
    "## Tuples"
   ]
  },
  {
   "cell_type": "code",
   "execution_count": 7,
   "metadata": {
    "collapsed": false
   },
   "outputs": [
    {
     "data": {
      "text/plain": [
       "<zip at 0x1f381d67d08>"
      ]
     },
     "execution_count": 7,
     "metadata": {},
     "output_type": "execute_result"
    }
   ],
   "source": [
    "x = [1,2,3]\n",
    "y = [4,5,6]\n",
    "\n",
    "zip(x,y) # creates a list of tuple pairs\n"
   ]
  },
  {
   "cell_type": "code",
   "execution_count": 5,
   "metadata": {
    "collapsed": false
   },
   "outputs": [
    {
     "name": "stdout",
     "output_type": "stream",
     "text": [
      "x: 1, y: 4\n",
      "x: 2, y: 5\n",
      "x: 3, y: 6\n"
     ]
    }
   ],
   "source": [
    "for x, y in zip(x,y):\n",
    "    print('x: {}, y: {}'.format(x,y))"
   ]
  },
  {
   "cell_type": "code",
   "execution_count": 8,
   "metadata": {
    "collapsed": false
   },
   "outputs": [
    {
     "name": "stdout",
     "output_type": "stream",
     "text": [
      "x: 1, y: 4\n",
      "x: 2, y: 5\n",
      "x: 3, y: 6\n"
     ]
    }
   ],
   "source": [
    "y = [4,5,6,7,8,9] # longer list, more elements than x\n",
    "\n",
    "# will only match the number of elements in the smallest sequence (x)\n",
    "for x,y in zip(x,y):\n",
    "    print('x: {}, y: {}'.format(x,y))\n"
   ]
  }
 ],
 "metadata": {
  "kernelspec": {
   "display_name": "Python [conda root]",
   "language": "python",
   "name": "conda-root-py"
  },
  "language_info": {
   "codemirror_mode": {
    "name": "ipython",
    "version": 3
   },
   "file_extension": ".py",
   "mimetype": "text/x-python",
   "name": "python",
   "nbconvert_exporter": "python",
   "pygments_lexer": "ipython3",
   "version": "3.5.2"
  }
 },
 "nbformat": 4,
 "nbformat_minor": 1
}
